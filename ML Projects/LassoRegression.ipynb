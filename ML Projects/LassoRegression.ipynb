{
  "nbformat": 4,
  "nbformat_minor": 0,
  "metadata": {
    "colab": {
      "provenance": []
    },
    "kernelspec": {
      "name": "python3",
      "display_name": "Python 3"
    },
    "language_info": {
      "name": "python"
    }
  },
  "cells": [
    {
      "cell_type": "code",
      "execution_count": null,
      "metadata": {
        "id": "0RcFgMjZHkbS"
      },
      "outputs": [],
      "source": [
        "import numpy as np"
      ]
    },
    {
      "cell_type": "code",
      "source": [
        "class LassoRegression():\n",
        "  def __init__(self,learning_rate,no_of_iterations,lambda_parameter):\n",
        "\n",
        "    self.learning_rate=learning_rate\n",
        "    self.no_of_iterations=no_of_iterations\n",
        "    self.lambda_parameter=lambda_parameter\n",
        "\n",
        "  def fit(self,x,y):\n",
        "    # m --> no of rows & n --> no of columns\n",
        "    self.m,self.n=x.shape\n",
        "\n",
        "    self.w=np.zeros(self.n)\n",
        "    self.b=0\n",
        "    self.x=x\n",
        "    self.y=y\n",
        "\n",
        "    #gradient decent\n",
        "    for i in range(self.no_of_iterations):\n",
        "      self.update_weight()\n",
        "\n",
        "  def update_weight(self):\n",
        "    y_predict=self.predict(self.x)\n",
        "    #gradient (dw,db)\n",
        "    dw=np.zeros(self.n)\n",
        "    for i in range(self.n):\n",
        "      if self.w[i]>0:\n",
        "        dw[i]=(-(2*(self.x[:,i]).dot(self.y-y_predict))+self.lambda_parameter)/self.m\n",
        "      else:\n",
        "        dw[i]=(-(2*(self.x[:,i]).dot(self.y-y_predict))-self.lambda_parameter)/self.m\n",
        "    #Gradient for bias\n",
        "    db=-2*np.sum(self.y-y_predict)/self.m\n",
        "    self.w = self.w-self.learning_rate * dw\n",
        "    self.b=self.b-self.learning_rate * db\n",
        "  def predict(self,x):\n",
        "    return x.dot(self.w)+self.b\n"
      ],
      "metadata": {
        "id": "i4YsxMODH9lc"
      },
      "execution_count": null,
      "outputs": []
    },
    {
      "cell_type": "code",
      "source": [],
      "metadata": {
        "id": "BxHzcjBDLvJW"
      },
      "execution_count": null,
      "outputs": []
    }
  ]
}